{
 "cells": [
  {
   "cell_type": "code",
   "execution_count": 1,
   "id": "28e951a3",
   "metadata": {},
   "outputs": [
    {
     "name": "stderr",
     "output_type": "stream",
     "text": [
      "C:\\Users\\willy\\anaconda3\\envs\\tensorflow_gpu\\lib\\site-packages\\tensorflow_addons\\utils\\tfa_eol_msg.py:23: UserWarning: \n",
      "\n",
      "TensorFlow Addons (TFA) has ended development and introduction of new features.\n",
      "TFA has entered a minimal maintenance and release mode until a planned end of life in May 2024.\n",
      "Please modify downstream libraries to take dependencies from other repositories in our TensorFlow community (e.g. Keras, Keras-CV, and Keras-NLP). \n",
      "\n",
      "For more information see: https://github.com/tensorflow/addons/issues/2807 \n",
      "\n",
      "  warnings.warn(\n",
      "C:\\Users\\willy\\anaconda3\\envs\\tensorflow_gpu\\lib\\site-packages\\tensorflow_addons\\utils\\ensure_tf_install.py:53: UserWarning: Tensorflow Addons supports using Python ops for all Tensorflow versions above or equal to 2.11.0 and strictly below 2.14.0 (nightly versions are not supported). \n",
      " The versions of TensorFlow you are currently using is 2.6.0 and is not supported. \n",
      "Some things might work, some things might not.\n",
      "If you were to encounter a bug, do not file an issue.\n",
      "If you want to make sure you're using a tested and supported configuration, either change the TensorFlow version or the TensorFlow Addons's version. \n",
      "You can find the compatibility matrix in TensorFlow Addon's readme:\n",
      "https://github.com/tensorflow/addons\n",
      "  warnings.warn(\n"
     ]
    }
   ],
   "source": [
    "import tensorflow as tf\n",
    "import cv2 \n",
    "from vit_keras import vit, utils\n",
    "from tensorflow.keras.preprocessing.image import ImageDataGenerator\n",
    "from tensorflow.keras.models import Model\n",
    "from tensorflow.keras.layers import Dense, GlobalAveragePooling2D\n"
   ]
  },
  {
   "cell_type": "code",
   "execution_count": 2,
   "id": "ae0658fe",
   "metadata": {},
   "outputs": [
    {
     "name": "stdout",
     "output_type": "stream",
     "text": [
      "Found 5094 images belonging to 3 classes.\n",
      "Found 1272 images belonging to 3 classes.\n"
     ]
    }
   ],
   "source": [
    "# 設置數據生成器\n",
    "train_datagen = ImageDataGenerator(\n",
    "    rescale=1./255,\n",
    "    validation_split=0.2  # 20%數據用於驗證\n",
    ")\n",
    "\n",
    "# 訓練數據生成器\n",
    "train_generator = train_datagen.flow_from_directory(\n",
    "    r\"E:\\Codes\\CV train\\回收系統dataset\\train\",  # 替換為您的資料路徑\n",
    "    target_size=(224, 224),  \n",
    "    batch_size=8,\n",
    "    class_mode='categorical',\n",
    "    subset='training'  # 指定為訓練集\n",
    ")\n",
    "\n",
    "# 驗證數據生成器\n",
    "validation_generator = train_datagen.flow_from_directory(\n",
    "    r\"E:\\Codes\\CV train\\回收系統dataset\\train\",\n",
    "    target_size=(224, 224),\n",
    "    batch_size=8,\n",
    "    class_mode='categorical',\n",
    "    subset='validation'  # 指定為驗證集\n",
    ")\n"
   ]
  },
  {
   "cell_type": "code",
   "execution_count": 3,
   "id": "1d5d9f6d",
   "metadata": {},
   "outputs": [
    {
     "name": "stderr",
     "output_type": "stream",
     "text": [
      "C:\\Users\\willy\\anaconda3\\envs\\tensorflow_gpu\\lib\\site-packages\\vit_keras\\utils.py:81: UserWarning: Resizing position embeddings from 24, 24 to 14, 14\n",
      "  warnings.warn(\n"
     ]
    }
   ],
   "source": [
    "image_size = 224\n",
    "model = vit.vit_l16(\n",
    "    image_size=image_size,\n",
    "    activation='softmax',\n",
    "    pretrained=True,\n",
    "    include_top=True,\n",
    "    pretrained_top=False,\n",
    "    classes=3\n",
    ")\n",
    "\n",
    "# 編譯模型\n",
    "model.compile(optimizer=\"adam\", loss=\"categorical_crossentropy\", metrics=[\"accuracy\"])\n"
   ]
  },
  {
   "cell_type": "code",
   "execution_count": null,
   "id": "5d644a2a",
   "metadata": {},
   "outputs": [
    {
     "name": "stdout",
     "output_type": "stream",
     "text": [
      "Epoch 1/5\n",
      "636/636 [==============================] - 454s 674ms/step - loss: 1.0797 - accuracy: 0.4825 - val_loss: 1.0803 - val_accuracy: 0.4096\n",
      "Epoch 2/5\n",
      "636/636 [==============================] - 423s 666ms/step - loss: 0.9362 - accuracy: 0.5124 - val_loss: 0.8925 - val_accuracy: 0.4096\n",
      "Epoch 3/5\n",
      "636/636 [==============================] - 419s 659ms/step - loss: 0.8632 - accuracy: 0.5073 - val_loss: 0.8986 - val_accuracy: 0.4096\n",
      "Epoch 4/5\n",
      "352/636 [===============>..............] - ETA: 2:50 - loss: 0.8569 - accuracy: 0.5156"
     ]
    }
   ],
   "source": [
    "# 訓練模型\n",
    "history = model.fit(\n",
    "    train_generator,\n",
    "    validation_data=validation_generator,\n",
    "    epochs=5,\n",
    "    steps_per_epoch=train_generator.samples // 8,\n",
    "    validation_steps=validation_generator.samples // 8\n",
    ")\n",
    "\n",
    "\n",
    "# 保存模型\n",
    "#model.save(r'C:\\Users\\willy\\CV train\\回收系統dataset\\vgg16_classification.h5')\n"
   ]
  },
  {
   "cell_type": "code",
   "execution_count": null,
   "id": "dd214bbf-389c-4362-9372-75ad346cb606",
   "metadata": {},
   "outputs": [],
   "source": [
    "model.summary()"
   ]
  }
 ],
 "metadata": {
  "kernelspec": {
   "display_name": "Python 3 (ipykernel)",
   "language": "python",
   "name": "python3"
  },
  "language_info": {
   "codemirror_mode": {
    "name": "ipython",
    "version": 3
   },
   "file_extension": ".py",
   "mimetype": "text/x-python",
   "name": "python",
   "nbconvert_exporter": "python",
   "pygments_lexer": "ipython3",
   "version": "3.8.0"
  }
 },
 "nbformat": 4,
 "nbformat_minor": 5
}
