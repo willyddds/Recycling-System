{
 "cells": [
  {
   "cell_type": "code",
   "execution_count": 2,
   "id": "5638aa6e-0f2a-4730-a19a-aef35ebe089c",
   "metadata": {},
   "outputs": [],
   "source": [
    "import tensorflow as tf\n",
    "import cv2\n",
    "import numpy as np\n",
    "\n",
    "# 載入訓練好的模型\n",
    "model = tf.keras.models.load_model('finalModel.h5', compile=False)\n",
    "\n",
    "# 設定攝影機\n",
    "cap = cv2.VideoCapture(0)\n",
    "if not cap.isOpened():\n",
    "    print(\"無法開啟攝影機\")\n",
    "    exit()\n",
    "\n",
    "# 分類標籤\n",
    "class_labels = ['GP', 'M', 'P']\n",
    "\n",
    "while True:\n",
    "    ret, frame = cap.read()  # 讀取攝影機畫面\n",
    "    if not ret:\n",
    "        print(\"無法讀取影像\")\n",
    "        break\n",
    "\n",
    "    # 影像處理：調整大小、裁切\n",
    "    img = cv2.resize(frame, (398, 224))  # 調整寬度\n",
    "    img = img[0:224, 80:304]  # 裁切為 224x224 大小\n",
    "    img = img / 255.0  # 標準化到 [0, 1]\n",
    "\n",
    "    # 轉換為模型輸入格式\n",
    "    img_array = np.expand_dims(img, axis=0)  # 增加 batch 維度\n",
    "    prediction = model.predict(img_array)[0]  # 取得預測結果\n",
    "\n",
    "    # 取得最高置信度的分類\n",
    "    predicted_class_index = np.argmax(prediction)  # 找出最大值的索引\n",
    "    predicted_class = class_labels[predicted_class_index]\n",
    "    confidence = prediction[predicted_class_index]  # 最高的信心分數\n",
    "\n",
    "    # 顯示預測結果\n",
    "    text = f\"{predicted_class}: {confidence:.2f}\"\n",
    "    cv2.putText(frame, text, (50, 50), cv2.FONT_HERSHEY_SIMPLEX, 1, (0, 255, 0), 2, cv2.LINE_AA)\n",
    "\n",
    "    # 顯示每個類別的信心分數\n",
    "    for i, (label, prob) in enumerate(zip(class_labels, prediction)):\n",
    "        text = f\"{label}: {prob:.2f}\"\n",
    "        cv2.putText(frame, text, (50, 100 + i * 40), cv2.FONT_HERSHEY_SIMPLEX, 0.8, (255, 255, 255), 2, cv2.LINE_AA)\n",
    "\n",
    "    cv2.imshow('分類結果', frame)\n",
    "\n",
    "    # 按下 'q' 離開\n",
    "    if cv2.waitKey(10) & 0xFF == ord('q'):\n",
    "        break\n",
    "\n",
    "# 釋放資源\n",
    "cap.release()\n",
    "cv2.destroyAllWindows()\n"
   ]
  },
  {
   "cell_type": "code",
   "execution_count": null,
   "id": "f427e3e2-e45d-4b81-8d6d-7d6766436dca",
   "metadata": {},
   "outputs": [],
   "source": []
  }
 ],
 "metadata": {
  "kernelspec": {
   "display_name": "Python 3 (ipykernel)",
   "language": "python",
   "name": "python3"
  },
  "language_info": {
   "codemirror_mode": {
    "name": "ipython",
    "version": 3
   },
   "file_extension": ".py",
   "mimetype": "text/x-python",
   "name": "python",
   "nbconvert_exporter": "python",
   "pygments_lexer": "ipython3",
   "version": "3.8.20"
  }
 },
 "nbformat": 4,
 "nbformat_minor": 5
}
