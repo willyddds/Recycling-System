{
 "cells": [
  {
   "cell_type": "code",
   "execution_count": 1,
   "id": "34165e10-d636-47e6-9c0e-0a1013d0aed0",
   "metadata": {},
   "outputs": [],
   "source": [
    "import tensorflow as tf\n",
    "from tensorflow.keras.models import load_model\n",
    "from tensorflow.keras.preprocessing.image import ImageDataGenerator\n",
    "import numpy as np\n",
    "import cv2\n",
    "import os\n",
    "from sklearn.metrics import accuracy_score, classification_report\n",
    "import pandas as pd"
   ]
  },
  {
   "cell_type": "code",
   "execution_count": 2,
   "id": "d105d778-a0ab-410b-9cdd-c21168c9d7fd",
   "metadata": {},
   "outputs": [
    {
     "name": "stdout",
     "output_type": "stream",
     "text": [
      "Found 9394 images belonging to 3 classes.\n"
     ]
    }
   ],
   "source": [
    "# 測試數據生成器\n",
    "test_datagen = ImageDataGenerator(rescale=1./255)\n",
    "\n",
    "test_generator = test_datagen.flow_from_directory(\n",
    "    r\"E:\\Codes\\CV train\\回收系統dataset\\trashbox\",  # 替換為您的測試數據目錄\n",
    "    target_size=(224,224),# 與訓練模型的輸入尺寸一致\n",
    "    batch_size=32,\n",
    "    class_mode=None,  # 測試集沒有標籤\n",
    "    shuffle=False  # 測試時不打亂數據順序\n",
    ")"
   ]
  },
  {
   "cell_type": "code",
   "execution_count": 3,
   "id": "751f6784-b6b4-4808-93b2-264a1ca6855c",
   "metadata": {},
   "outputs": [],
   "source": [
    "gpus = tf.config.experimental.list_physical_devices('GPU')\n",
    "for gpu in gpus:\n",
    "    tf.config.experimental.set_memory_growth(gpu, True)"
   ]
  },
  {
   "cell_type": "code",
   "execution_count": 4,
   "id": "f8e5b015-70a6-4d28-bf7f-979c5def5e55",
   "metadata": {},
   "outputs": [],
   "source": [
    "model = load_model(r\"E:\\Codes\\CV train\\回收系統dataset\\test.h5\")\n"
   ]
  },
  {
   "cell_type": "code",
   "execution_count": 5,
   "id": "f53dc09c-ab44-494a-a38a-5edc608c6d14",
   "metadata": {},
   "outputs": [
    {
     "name": "stdout",
     "output_type": "stream",
     "text": [
      "294/294 [==============================] - 18s 52ms/step\n"
     ]
    }
   ],
   "source": [
    "# 進行預測\n",
    "predictions = model.predict(test_generator, verbose=1)\n",
    "\n",
    "# 取得預測的類別\n",
    "predicted_classes = np.argmax(predictions, axis=1)"
   ]
  },
  {
   "cell_type": "code",
   "execution_count": 6,
   "id": "a59977b0-a95c-4220-8eff-09222bffde6e",
   "metadata": {},
   "outputs": [],
   "source": [
    "# 獲取測試數據文件名\n",
    "filenames = test_generator.filenames\n",
    "\n",
    "# 建立結果數據框\n",
    "results = pd.DataFrame({\n",
    "    'Filename': filenames,\n",
    "    'Prediction': predicted_classes.flatten()\n",
    "})\n",
    "\n",
    "# 保存到 CSV 文件\n",
    "#results.to_csv('test_987_classification.csv', index=False)\n",
    "\n",
    "#print(\"預測結果已保存到 test_987_classification.csv\")\n"
   ]
  },
  {
   "cell_type": "code",
   "execution_count": 7,
   "id": "e4ef3f64-255f-4647-893c-42f7611bfd78",
   "metadata": {},
   "outputs": [
    {
     "name": "stdout",
     "output_type": "stream",
     "text": [
      "準確率: 0.6942729401745795\n",
      "              precision    recall  f1-score   support\n",
      "\n",
      "           0       0.68      0.66      0.67      3734\n",
      "           1       0.52      0.38      0.44      1594\n",
      "           2       0.75      0.85      0.80      4066\n",
      "\n",
      "    accuracy                           0.69      9394\n",
      "   macro avg       0.65      0.63      0.63      9394\n",
      "weighted avg       0.68      0.69      0.69      9394\n",
      "\n"
     ]
    }
   ],
   "source": [
    "# 獲取真實標籤\n",
    "true_labels = test_generator.classes\n",
    "\n",
    "# 計算準確率\n",
    "accuracy = accuracy_score(true_labels, predicted_classes)\n",
    "print(f\"準確率: {accuracy}\")\n",
    "\n",
    "# 顯示詳細分類報告\n",
    "print(classification_report(true_labels, predicted_classes))\n"
   ]
  },
  {
   "cell_type": "code",
   "execution_count": 8,
   "id": "4c048080-f76d-4356-aec0-da9165c1f7ee",
   "metadata": {},
   "outputs": [],
   "source": [
    "#model.summary()"
   ]
  }
 ],
 "metadata": {
  "kernelspec": {
   "display_name": "Python 3 (ipykernel)",
   "language": "python",
   "name": "python3"
  },
  "language_info": {
   "codemirror_mode": {
    "name": "ipython",
    "version": 3
   },
   "file_extension": ".py",
   "mimetype": "text/x-python",
   "name": "python",
   "nbconvert_exporter": "python",
   "pygments_lexer": "ipython3",
   "version": "3.8.20"
  }
 },
 "nbformat": 4,
 "nbformat_minor": 5
}
