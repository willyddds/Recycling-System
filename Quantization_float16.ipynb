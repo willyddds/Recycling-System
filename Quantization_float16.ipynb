{
 "cells": [
  {
   "cell_type": "code",
   "execution_count": 1,
   "metadata": {},
   "outputs": [],
   "source": [
    "import tensorflow as tf\n",
    "import numpy as np\n",
    "import os\n",
    "from tensorflow.keras.preprocessing.image import ImageDataGenerator"
   ]
  },
  {
   "cell_type": "code",
   "execution_count": 2,
   "metadata": {},
   "outputs": [],
   "source": [
    "gpus = tf.config.experimental.list_physical_devices('GPU')\n",
    "for gpu in gpus:\n",
    "    tf.config.experimental.set_memory_growth(gpu, True)"
   ]
  },
  {
   "cell_type": "code",
   "execution_count": 3,
   "metadata": {},
   "outputs": [],
   "source": [
    "# 載入原始 Keras 模型 (float32)\n",
    "model = tf.keras.models.load_model('1.3MobileNetV2.h5')"
   ]
  },
  {
   "cell_type": "code",
   "execution_count": 4,
   "metadata": {},
   "outputs": [],
   "source": [
    "def representative_dataset_gen():\n",
    "    dataset_dir = 'Garbage'  # 請替換為你的資料夾路徑\n",
    "    datagen = ImageDataGenerator(rescale=1./255)\n",
    "    calib_generator = datagen.flow_from_directory(\n",
    "        dataset_dir,\n",
    "        target_size=(224, 224),\n",
    "        batch_size=1,\n",
    "        class_mode=None,\n",
    "        shuffle=True\n",
    "    )\n",
    "\n",
    "    for i in range(8000):\n",
    "        img = next(calib_generator)\n",
    "        yield [img]"
   ]
  },
  {
   "cell_type": "code",
   "execution_count": 5,
   "metadata": {},
   "outputs": [],
   "source": [
    "# 建立 TFLiteConverter\n",
    "converter = tf.lite.TFLiteConverter.from_keras_model(model)\n",
    "# 開啟優化\n",
    "converter.optimizations = [tf.lite.Optimize.DEFAULT]\n",
    "converter.representative_dataset = representative_dataset_gen\n",
    "#converter.target_spec.supported_ops = [tf.lite.OpsSet.TFLITE_BUILTINS_FLOAT16]"
   ]
  },
  {
   "cell_type": "code",
   "execution_count": 6,
   "metadata": {},
   "outputs": [],
   "source": [
    "# 指定量化方式\n",
    "converter.target_spec.supported_types = [tf.float16]  # float16 或 int8"
   ]
  },
  {
   "cell_type": "code",
   "execution_count": 7,
   "metadata": {},
   "outputs": [
    {
     "name": "stdout",
     "output_type": "stream",
     "text": [
      "INFO:tensorflow:Assets written to: C:\\Users\\willy\\AppData\\Local\\Temp\\tmpy25drazr\\assets\n"
     ]
    },
    {
     "name": "stderr",
     "output_type": "stream",
     "text": [
      "c:\\Users\\willy\\anaconda3\\envs\\tensorflow_gpu\\lib\\site-packages\\keras\\utils\\generic_utils.py:494: CustomMaskWarning: Custom mask layers require a config and must override get_config. When loading, the custom mask layer must be passed to the custom_objects argument.\n",
      "  warnings.warn('Custom mask layers require a config and must override '\n"
     ]
    }
   ],
   "source": [
    "# 轉換\n",
    "tflite_quant_model = converter.convert()\n",
    "\n",
    "# 儲存 .tflite\n",
    "with open('1.3MobileNetV2.tflite', 'wb') as f:\n",
    "    f.write(tflite_quant_model)"
   ]
  },
  {
   "cell_type": "code",
   "execution_count": 8,
   "metadata": {},
   "outputs": [],
   "source": [
    "import tensorflow as tf\n",
    "import numpy as np\n",
    "import cv2\n",
    "import os\n",
    "import matplotlib.pyplot as plt\n",
    "from sklearn.metrics import accuracy_score, classification_report, f1_score, confusion_matrix, ConfusionMatrixDisplay"
   ]
  },
  {
   "cell_type": "code",
   "execution_count": 9,
   "metadata": {},
   "outputs": [],
   "source": [
    "gpus = tf.config.experimental.list_physical_devices('GPU')\n",
    "for gpu in gpus:\n",
    "    tf.config.experimental.set_memory_growth(gpu, True)"
   ]
  },
  {
   "cell_type": "code",
   "execution_count": 10,
   "metadata": {},
   "outputs": [],
   "source": [
    "# === 1. 載入 .tflite 模型 ===\n",
    "interpreter = tf.lite.Interpreter(model_path=\"1.3MobileNetV2.tflite\")\n",
    "interpreter.allocate_tensors()\n",
    "\n",
    "input_details = interpreter.get_input_details()\n",
    "output_details = interpreter.get_output_details()\n",
    "\n",
    "input_index = input_details[0]['index']\n",
    "output_index = output_details[0]['index']\n",
    "\n",
    "# 輸入尺寸\n",
    "_, height, width, channels = input_details[0]['shape']"
   ]
  },
  {
   "cell_type": "code",
   "execution_count": 11,
   "metadata": {},
   "outputs": [],
   "source": [
    "# === 2. 圖片預處理函式 ===\n",
    "\n",
    "def preprocess_image(img_path):\n",
    "    img = cv2.imread(img_path)\n",
    "    if img is None:\n",
    "        return None\n",
    "    img = cv2.cvtColor(img, cv2.COLOR_BGR2RGB)\n",
    "    img = cv2.resize(img, (width, height))\n",
    "    img = img.astype(np.float32) / 255.0\n",
    "    img = np.expand_dims(img, axis=0)  # 加入 batch 維度\n",
    "    return img"
   ]
  },
  {
   "cell_type": "code",
   "execution_count": 12,
   "metadata": {},
   "outputs": [],
   "source": [
    "# === 3. 讀取測試圖片與標籤 ===\n",
    "def load_test_data(img_dir):\n",
    "    X = []\n",
    "    y = []\n",
    "    class_names = sorted(os.listdir(img_dir))  # 每個子資料夾為一個類別\n",
    "    class_to_idx = {name: idx for idx, name in enumerate(class_names)}\n",
    "\n",
    "    for class_name in class_names:\n",
    "        class_folder = os.path.join(img_dir, class_name)\n",
    "        if not os.path.isdir(class_folder):\n",
    "            continue\n",
    "        for fname in os.listdir(class_folder):\n",
    "            if fname.lower().endswith(('.jpg', '.png', '.jpeg')):\n",
    "                img_path = os.path.join(class_folder, fname)\n",
    "                img = preprocess_image(img_path)\n",
    "                if img is not None:\n",
    "                    X.append(img)\n",
    "                    y.append(class_to_idx[class_name])\n",
    "    return X, y, class_names\n",
    "\n",
    "# 設定測試資料資料夾\n",
    "test_dir = \"trashbox\"  # ← 替換為實際測試資料夾路徑\n",
    "X, y_true, class_names = load_test_data(test_dir)"
   ]
  },
  {
   "cell_type": "code",
   "execution_count": 13,
   "metadata": {},
   "outputs": [],
   "source": [
    "# === 4. 執行推論 ===\n",
    "y_pred = []\n",
    "for img in X:\n",
    "    interpreter.set_tensor(input_index, img)\n",
    "    interpreter.invoke()\n",
    "    output = interpreter.get_tensor(output_index)\n",
    "    pred = np.argmax(output, axis=-1)[0]\n",
    "    y_pred.append(pred)"
   ]
  },
  {
   "cell_type": "code",
   "execution_count": 14,
   "metadata": {},
   "outputs": [
    {
     "name": "stdout",
     "output_type": "stream",
     "text": [
      "準確率: 0.719830262885531\n",
      "              precision    recall  f1-score   support\n",
      "\n",
      "          BG     0.9325    1.0000    0.9651       373\n",
      "       Metal     0.4187    0.8707    0.5655      1562\n",
      "          PG     0.9203    0.5468    0.6860      3696\n",
      "       Paper     0.8384    0.7941    0.8156      4031\n",
      "\n",
      "    accuracy                         0.7198      9662\n",
      "   macro avg     0.7775    0.8029    0.7581      9662\n",
      "weighted avg     0.8055    0.7198    0.7314      9662\n",
      "\n"
     ]
    }
   ],
   "source": [
    "# === 5. 計算 F1-score 與分類報告 ===\n",
    "accuracy = accuracy_score(y_true, y_pred)\n",
    "print(f\"準確率: {accuracy}\")\n",
    "\n",
    "print(classification_report(y_true, y_pred, target_names=class_names, digits=4))"
   ]
  }
 ],
 "metadata": {
  "kernelspec": {
   "display_name": "Python 3",
   "language": "python",
   "name": "python3"
  },
  "language_info": {
   "codemirror_mode": {
    "name": "ipython",
    "version": 3
   },
   "file_extension": ".py",
   "mimetype": "text/x-python",
   "name": "python",
   "nbconvert_exporter": "python",
   "pygments_lexer": "ipython3",
   "version": "3.8.20"
  }
 },
 "nbformat": 4,
 "nbformat_minor": 2
}
