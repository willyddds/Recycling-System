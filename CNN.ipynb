{
 "cells": [
  {
   "cell_type": "code",
   "execution_count": 1,
   "metadata": {},
   "outputs": [],
   "source": [
    "import tensorflow as tf\n",
    "from tensorflow import keras\n",
    "from tensorflow.keras.callbacks import ModelCheckpoint\n",
    "from tensorflow.keras.callbacks import LearningRateScheduler\n",
    "from tensorflow.keras.applications import MobileNetV2, MobileNet, NASNetMobile\n",
    "from tensorflow.keras.preprocessing.image import ImageDataGenerator\n",
    "from tensorflow.keras.layers import Dense, Flatten, GlobalAveragePooling2D, Dropout\n",
    "from tensorflow.keras.models import Model"
   ]
  },
  {
   "cell_type": "code",
   "execution_count": 2,
   "metadata": {},
   "outputs": [],
   "source": [
    "gpus = tf.config.experimental.list_physical_devices('GPU')\n",
    "for gpu in gpus:\n",
    "    tf.config.experimental.set_memory_growth(gpu, True)"
   ]
  },
  {
   "cell_type": "code",
   "execution_count": null,
   "metadata": {},
   "outputs": [],
   "source": [
    "batch=16"
   ]
  },
  {
   "cell_type": "code",
   "execution_count": null,
   "metadata": {},
   "outputs": [
    {
     "name": "stdout",
     "output_type": "stream",
     "text": [
      "Found 6465 images belonging to 4 classes.\n",
      "Found 1614 images belonging to 4 classes.\n"
     ]
    }
   ],
   "source": [
    "# 設置數據生成器\n",
    "train_datagen = ImageDataGenerator(\n",
    "    rescale=1./255,\n",
    "    rotation_range=45,\n",
    "    width_shift_range=0.1,\n",
    "    height_shift_range=0.1,\n",
    "    zoom_range=0.1,\n",
    "    shear_range=0.1,\n",
    "    validation_split=0.2\n",
    ")\n",
    "\n",
    "# 訓練數據生成器\n",
    "train_generator = train_datagen.flow_from_directory(\n",
    "    'garbage',  \n",
    "    target_size=(224, 224),  \n",
    "    batch_size=batch,\n",
    "    class_mode='categorical',\n",
    "    subset='training'  # 指定為訓練集\n",
    ")\n",
    "\n",
    "# 驗證數據生成器\n",
    "validation_generator = train_datagen.flow_from_directory(\n",
    "    'garbage',\n",
    "    target_size=(224, 224),\n",
    "    batch_size=batch,\n",
    "    class_mode='categorical',\n",
    "    subset='validation'  # 指定為驗證集\n",
    ")"
   ]
  },
  {
   "cell_type": "code",
   "execution_count": null,
   "metadata": {},
   "outputs": [],
   "source": [
    "# 加載預訓練模型\n",
    "base_model = MobileNetV2(\n",
    "    alpha=1.3,\n",
    "    weights='imagenet', \n",
    "    include_top=False, \n",
    "    input_shape=(224, 224, 3))\n",
    "\n",
    "# 添加自定義分類層\n",
    "x = base_model.output\n",
    "x = GlobalAveragePooling2D()(x)\n",
    "x = Dropout(0.5)(x)\n",
    "x = Dense(64,activation='relu')(x)\n",
    "x = Dense(4, activation='softmax')(x)\n",
    "\n",
    "# 構建完整模型\n",
    "model = Model(inputs=base_model.input, outputs=x)\n",
    "\n",
    "# 解凍預訓練層\n",
    "for layer in base_model.layers:\n",
    "    layer.trainable = False\n",
    "for layer in base_model.layers[:4]:  \n",
    "    layer.trainable = True\n",
    "\n",
    "    \n",
    "# 編譯模型\n",
    "model.compile(\n",
    "    optimizer='adam',\n",
    "    loss='categorical_crossentropy', \n",
    "    metrics=['accuracy']\n",
    ")"
   ]
  },
  {
   "cell_type": "code",
   "execution_count": null,
   "metadata": {},
   "outputs": [],
   "source": [
    "checkpoint = ModelCheckpoint(\n",
    "    \"1.3MobileNetV2.h5\",   # 保存的文件名稱\n",
    "    monitor=\"val_accuracy\",  # 監測驗證準確率（也可以改成 \"val_loss\"）\n",
    "    save_best_only=True,     # 只儲存最佳權重\n",
    "    mode=\"max\",              # \"max\" 代表數值越高越好（適用於準確率）\n",
    "    verbose=1                # 顯示存檔訊息\n",
    ")"
   ]
  },
  {
   "cell_type": "code",
   "execution_count": null,
   "metadata": {},
   "outputs": [],
   "source": [
    "history = model.fit(\n",
    "    train_generator,\n",
    "    validation_data=validation_generator,\n",
    "    epochs=100,\n",
    "    steps_per_epoch=train_generator.samples // batch,\n",
    "    validation_steps=validation_generator.samples // batch,\n",
    "    callbacks=[checkpoint]  \n",
    ")"
   ]
  }
 ],
 "metadata": {
  "kernelspec": {
   "display_name": "tensorflow_gpu",
   "language": "python",
   "name": "python3"
  },
  "language_info": {
   "codemirror_mode": {
    "name": "ipython",
    "version": 3
   },
   "file_extension": ".py",
   "mimetype": "text/x-python",
   "name": "python",
   "nbconvert_exporter": "python",
   "pygments_lexer": "ipython3",
   "version": "3.9.23"
  }
 },
 "nbformat": 4,
 "nbformat_minor": 2
}
