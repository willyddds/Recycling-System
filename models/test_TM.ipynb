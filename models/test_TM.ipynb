{
 "cells": [
  {
   "cell_type": "code",
   "execution_count": 4,
   "id": "2c6352e0",
   "metadata": {},
   "outputs": [],
   "source": [
    "import tensorflow as tf\n",
    "from tensorflow.keras.models import load_model\n",
    "from tensorflow.keras.preprocessing.image import ImageDataGenerator\n",
    "import numpy as np\n",
    "import cv2\n",
    "import os\n",
    "from sklearn.metrics import accuracy_score, classification_report\n",
    "import pandas as pd"
   ]
  },
  {
   "cell_type": "code",
   "execution_count": 5,
   "id": "39120068",
   "metadata": {},
   "outputs": [],
   "source": [
    "gpus = tf.config.experimental.list_physical_devices('GPU')\n",
    "for gpu in gpus:\n",
    "    tf.config.experimental.set_memory_growth(gpu, True)"
   ]
  },
  {
   "cell_type": "code",
   "execution_count": 6,
   "id": "20884e37",
   "metadata": {},
   "outputs": [
    {
     "name": "stdout",
     "output_type": "stream",
     "text": [
      "準確率: 0.6782\n",
      "              precision    recall  f1-score   support\n",
      "\n",
      "          BG     0.8144    1.0000    0.8977       373\n",
      "       metal     0.4656    0.3949    0.4273      1593\n",
      "       paper     0.6905    0.8800    0.7738      4066\n",
      "          PG     0.7362    0.5471    0.6277      3734\n",
      "\n",
      "    accuracy                         0.6782      9766\n",
      "   macro avg     0.6767    0.7055    0.6816      9766\n",
      "weighted avg     0.6760    0.6782    0.6662      9766\n",
      "\n"
     ]
    }
   ],
   "source": [
    "from keras.models import load_model\n",
    "from PIL import Image, ImageOps\n",
    "import numpy as np\n",
    "import os\n",
    "from sklearn.metrics import accuracy_score, classification_report\n",
    "\n",
    "# 禁用科學記號表示\n",
    "np.set_printoptions(suppress=True)\n",
    "\n",
    "# 載入模型\n",
    "model = load_model(\"0408keras_Model.h5\", compile=False)\n",
    "\n",
    "# 載入標籤\n",
    "class_names_from_file = open(\"labels.txt\", \"r\").readlines()\n",
    "class_names_list = [name.strip() for name in class_names_from_file]\n",
    "num_classes = len(class_names_list)\n",
    "class_to_index = {name: i for i, name in enumerate(class_names_list)}\n",
    "\n",
    "# 測試圖片資料夾路徑\n",
    "test_folder = r\"E:\\Codes\\CV train\\回收系統dataset\\trashbox\"  # 使用原始字串以避免反斜線問題\n",
    "\n",
    "# 用於儲存真實標籤和預測結果的列表\n",
    "true_labels = []\n",
    "predicted_classes = []\n",
    "\n",
    "# 創建正確形狀的陣列\n",
    "data = np.ndarray(shape=(1, 224, 224, 3), dtype=np.float32)\n",
    "\n",
    "for class_folder in os.listdir(test_folder):\n",
    "    class_path = os.path.join(test_folder, class_folder)\n",
    "    if os.path.isdir(class_path):  # 確保是資料夾\n",
    "        if class_folder in class_to_index:\n",
    "            true_label_index = class_to_index[class_folder]\n",
    "            for filename in os.listdir(class_path):\n",
    "                if filename.endswith(('.png', '.jpg', '.jpeg')):\n",
    "                    image_path = os.path.join(class_path, filename)\n",
    "                    try:\n",
    "                        # 載入圖片\n",
    "                        image = Image.open(image_path).convert(\"RGB\")\n",
    "                        size = (224, 224)\n",
    "                        image = ImageOps.fit(image, size, Image.Resampling.LANCZOS)\n",
    "                        image_array = np.asarray(image)\n",
    "                        normalized_image_array = (image_array.astype(np.float32) / 127.5) - 1\n",
    "                        data[0] = normalized_image_array\n",
    "\n",
    "                        # 進行預測\n",
    "                        prediction = model.predict(data)\n",
    "                        index = np.argmax(prediction)\n",
    "                        predicted_class_index = index\n",
    "                        predicted_classes.append(predicted_class_index)\n",
    "                        true_labels.append(true_label_index)\n",
    "                    except Exception as e:\n",
    "                        print(f\"處理圖片 {filename} 時發生錯誤：{e}\")\n",
    "                        print(\"-\" * 20)\n",
    "        else:\n",
    "            print(f\"警告：資料夾名稱 '{class_folder}' 在 labels.txt 中找不到。\")\n",
    "\n",
    "# 確保我們有真實標籤和預測結果\n",
    "if true_labels and predicted_classes and len(true_labels) == len(predicted_classes):\n",
    "    # 計算準確率\n",
    "    accuracy = accuracy_score(true_labels, predicted_classes)\n",
    "    print(f\"準確率: {accuracy:.4f}\")\n",
    "\n",
    "    # 顯示詳細分類報告\n",
    "    print(classification_report(true_labels, predicted_classes, target_names=class_names_list, digits=4))\n",
    "else:\n",
    "    print(\"警告：無法計算準確率和分類報告，因為真實標籤或預測結果為空或長度不一致。\")"
   ]
  }
 ],
 "metadata": {
  "kernelspec": {
   "display_name": "Python 3",
   "language": "python",
   "name": "python3"
  },
  "language_info": {
   "codemirror_mode": {
    "name": "ipython",
    "version": 3
   },
   "file_extension": ".py",
   "mimetype": "text/x-python",
   "name": "python",
   "nbconvert_exporter": "python",
   "pygments_lexer": "ipython3",
   "version": "3.8.20"
  }
 },
 "nbformat": 4,
 "nbformat_minor": 5
}
