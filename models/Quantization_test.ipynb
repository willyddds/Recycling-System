{
 "cells": [
  {
   "cell_type": "code",
   "execution_count": 1,
   "metadata": {},
   "outputs": [],
   "source": [
    "import tensorflow as tf\n",
    "import numpy as np\n",
    "import cv2\n",
    "import os\n",
    "from sklearn.metrics import accuracy_score,classification_report, f1_score"
   ]
  },
  {
   "cell_type": "code",
   "execution_count": 2,
   "metadata": {},
   "outputs": [],
   "source": [
    "gpus = tf.config.experimental.list_physical_devices('GPU')\n",
    "for gpu in gpus:\n",
    "    tf.config.experimental.set_memory_growth(gpu, True)"
   ]
  },
  {
   "cell_type": "code",
   "execution_count": 3,
   "metadata": {},
   "outputs": [],
   "source": [
    "# === 1. 載入 .tflite 模型 ===\n",
    "interpreter = tf.lite.Interpreter(model_path=\"test.tflite\")\n",
    "interpreter.allocate_tensors()\n",
    "\n",
    "input_details = interpreter.get_input_details()\n",
    "output_details = interpreter.get_output_details()\n",
    "\n",
    "input_index = input_details[0]['index']\n",
    "output_index = output_details[0]['index']\n",
    "\n",
    "# 輸入尺寸\n",
    "_, height, width, channels = input_details[0]['shape']"
   ]
  },
  {
   "cell_type": "code",
   "execution_count": 4,
   "metadata": {},
   "outputs": [],
   "source": [
    "# === 2. 圖片預處理函式 ===\n",
    "\n",
    "def preprocess_image(img_path):\n",
    "    img = cv2.imread(img_path)\n",
    "    if img is None:\n",
    "        return None\n",
    "    img = cv2.cvtColor(img, cv2.COLOR_BGR2RGB)\n",
    "    img = cv2.resize(img, (width, height))\n",
    "    img = img.astype(np.float32) / 255.0\n",
    "    img = np.expand_dims(img, axis=0)  # 加入 batch 維度\n",
    "    return img"
   ]
  },
  {
   "cell_type": "code",
   "execution_count": 5,
   "metadata": {},
   "outputs": [],
   "source": [
    "# === 3. 讀取測試圖片與標籤 ===\n",
    "def load_test_data(img_dir):\n",
    "    X = []\n",
    "    y = []\n",
    "    class_names = sorted(os.listdir(img_dir))  # 每個子資料夾為一個類別\n",
    "    class_to_idx = {name: idx for idx, name in enumerate(class_names)}\n",
    "\n",
    "    for class_name in class_names:\n",
    "        class_folder = os.path.join(img_dir, class_name)\n",
    "        if not os.path.isdir(class_folder):\n",
    "            continue\n",
    "        for fname in os.listdir(class_folder):\n",
    "            if fname.lower().endswith(('.jpg', '.png', '.jpeg')):\n",
    "                img_path = os.path.join(class_folder, fname)\n",
    "                img = preprocess_image(img_path)\n",
    "                if img is not None:\n",
    "                    X.append(img)\n",
    "                    y.append(class_to_idx[class_name])\n",
    "    return X, y, class_names\n",
    "\n",
    "# 設定測試資料資料夾\n",
    "test_dir = \"trashbox\"  # ← 替換為實際測試資料夾路徑\n",
    "X, y_true, class_names = load_test_data(test_dir)"
   ]
  },
  {
   "cell_type": "code",
   "execution_count": 6,
   "metadata": {},
   "outputs": [],
   "source": [
    "# === 4. 執行推論 ===\n",
    "y_pred = []\n",
    "for img in X:\n",
    "    interpreter.set_tensor(input_index, img)\n",
    "    interpreter.invoke()\n",
    "    output = interpreter.get_tensor(output_index)\n",
    "    pred = np.argmax(output, axis=-1)[0]\n",
    "    y_pred.append(pred)"
   ]
  },
  {
   "cell_type": "code",
   "execution_count": 7,
   "metadata": {},
   "outputs": [
    {
     "name": "stdout",
     "output_type": "stream",
     "text": [
      "準確率: 0.7019250460782306\n",
      "              precision    recall  f1-score   support\n",
      "\n",
      "          BG     0.7051    1.0000    0.8271       373\n",
      "          PG     0.7788    0.5771    0.6630      3734\n",
      "       metal     0.4634    0.6353    0.5359      1593\n",
      "       paper     0.7734    0.8153    0.7938      4066\n",
      "\n",
      "    accuracy                         0.7019      9766\n",
      "   macro avg     0.6802    0.7569    0.7049      9766\n",
      "weighted avg     0.7223    0.7019    0.7030      9766\n",
      "\n"
     ]
    }
   ],
   "source": [
    "# === 5. 計算 F1-score 與分類報告 ===\n",
    "accuracy = accuracy_score(y_true, y_pred)\n",
    "print(f\"準確率: {accuracy}\")\n",
    "\n",
    "print(classification_report(y_true, y_pred, target_names=class_names, digits=4))"
   ]
  }
 ],
 "metadata": {
  "kernelspec": {
   "display_name": "Python 3",
   "language": "python",
   "name": "python3"
  },
  "language_info": {
   "codemirror_mode": {
    "name": "ipython",
    "version": 3
   },
   "file_extension": ".py",
   "mimetype": "text/x-python",
   "name": "python",
   "nbconvert_exporter": "python",
   "pygments_lexer": "ipython3",
   "version": "3.8.20"
  }
 },
 "nbformat": 4,
 "nbformat_minor": 2
}
