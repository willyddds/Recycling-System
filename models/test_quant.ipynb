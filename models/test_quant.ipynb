{
 "cells": [
  {
   "cell_type": "code",
   "execution_count": 1,
   "metadata": {},
   "outputs": [
    {
     "name": "stdout",
     "output_type": "stream",
     "text": [
      "大致估計的總參數數量: 5,194,534\n"
     ]
    }
   ],
   "source": [
    "import tensorflow as tf\n",
    "\n",
    "# 載入 TFLite 模型\n",
    "interpreter = tf.lite.Interpreter(model_path=\"final_model_quant.tflite\")\n",
    "interpreter.allocate_tensors()\n",
    "\n",
    "# 獲取所有張量資訊\n",
    "tensor_details = interpreter.get_tensor_details()\n",
    "\n",
    "# 統計總參數量（以 Dense 和 Conv 類型為主）\n",
    "total_params = 0\n",
    "for t in tensor_details:\n",
    "    shape = t['shape']\n",
    "    if len(shape) >= 2:\n",
    "        param_count = 1\n",
    "        for dim in shape:\n",
    "            param_count *= dim\n",
    "        total_params += param_count\n",
    "\n",
    "print(f\"大致估計的總參數數量: {total_params:,}\")\n"
   ]
  },
  {
   "cell_type": "code",
   "execution_count": 2,
   "metadata": {},
   "outputs": [
    {
     "name": "stdout",
     "output_type": "stream",
     "text": [
      "Total Parameters: 5209972\n"
     ]
    }
   ],
   "source": [
    "import tensorflow as tf\n",
    "\n",
    "def get_model_params(model_path):\n",
    "    \"\"\"Calculates the total number of parameters in a TensorFlow Lite model.\n",
    "\n",
    "    Args:\n",
    "        model_path (str): Path to the .tflite model file.\n",
    "\n",
    "    Returns:\n",
    "        int: Total number of parameters in the model.\n",
    "    \"\"\"\n",
    "    interpreter = tf.lite.Interpreter(model_path=model_path)\n",
    "    interpreter.allocate_tensors()\n",
    "\n",
    "    total_params = 0\n",
    "    for detail in interpreter.get_tensor_details():\n",
    "        total_params += detail['shape'].prod()  # Multiply to get total elements in the tensor\n",
    "    \n",
    "    return total_params\n",
    "\n",
    "# Get the total number of parameters\n",
    "total_params = get_model_params('final_model_quant.tflite')\n",
    "print(f\"Total Parameters: {total_params}\")"
   ]
  }
 ],
 "metadata": {
  "kernelspec": {
   "display_name": "Python 3",
   "language": "python",
   "name": "python3"
  },
  "language_info": {
   "codemirror_mode": {
    "name": "ipython",
    "version": 3
   },
   "file_extension": ".py",
   "mimetype": "text/x-python",
   "name": "python",
   "nbconvert_exporter": "python",
   "pygments_lexer": "ipython3",
   "version": "3.8.20"
  }
 },
 "nbformat": 4,
 "nbformat_minor": 2
}
