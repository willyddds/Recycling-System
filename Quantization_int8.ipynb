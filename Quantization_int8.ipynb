{
 "cells": [
  {
   "cell_type": "code",
   "execution_count": 2,
   "metadata": {},
   "outputs": [
    {
     "name": "stdout",
     "output_type": "stream",
     "text": [
      "INFO:tensorflow:Assets written to: C:\\Users\\willy\\AppData\\Local\\Temp\\tmpz32812ty\\assets\n"
     ]
    },
    {
     "name": "stderr",
     "output_type": "stream",
     "text": [
      "c:\\Users\\willy\\anaconda3\\envs\\tensorflow_gpu\\lib\\site-packages\\keras\\utils\\generic_utils.py:494: CustomMaskWarning: Custom mask layers require a config and must override get_config. When loading, the custom mask layer must be passed to the custom_objects argument.\n",
      "  warnings.warn('Custom mask layers require a config and must override '\n"
     ]
    },
    {
     "name": "stdout",
     "output_type": "stream",
     "text": [
      "Found 8079 images belonging to 4 classes.\n",
      "✅ 轉換完成，已儲存為 model_int8.tflite\n"
     ]
    }
   ],
   "source": [
    "import tensorflow as tf\n",
    "import numpy as np\n",
    "import os\n",
    "from tensorflow.keras.preprocessing.image import ImageDataGenerator\n",
    "\n",
    "gpus = tf.config.experimental.list_physical_devices('GPU')\n",
    "for gpu in gpus:\n",
    "    tf.config.experimental.set_memory_growth(gpu, True)\n",
    "\n",
    "# ==== 1. 載入原始Keras模型 (.h5) ====\n",
    "model = tf.keras.models.load_model('MobileNetV2.h5')\n",
    "\n",
    "# ==== 2. 設定校準資料集（Calibration Dataset）====\n",
    "\n",
    "# 注意：這裡必須提供一小組訓練資料作為量化的參考 (約100~500張即可)\n",
    "def representative_dataset_gen():\n",
    "    dataset_dir = 'Garbage'  # 請替換為你的資料夾路徑\n",
    "    datagen = ImageDataGenerator(rescale=1./255)\n",
    "    calib_generator = datagen.flow_from_directory(\n",
    "        dataset_dir,\n",
    "        target_size=(224, 224),\n",
    "        batch_size=16,\n",
    "        class_mode=None,\n",
    "        shuffle=True\n",
    "    )\n",
    "\n",
    "    for i in range(500):\n",
    "        img = next(calib_generator)\n",
    "        yield [img]\n",
    "\n",
    "# ==== 3. 建立 TFLiteConverter 轉換器 ====\n",
    "converter = tf.lite.TFLiteConverter.from_keras_model(model)\n",
    "\n",
    "# 設定為全整數量化 (int8)\n",
    "converter.optimizations = [tf.lite.Optimize.DEFAULT]\n",
    "converter.representative_dataset = representative_dataset_gen\n",
    "converter.target_spec.supported_ops = [tf.lite.OpsSet.TFLITE_BUILTINS_INT8]\n",
    "\n",
    "# 設定輸入/輸出張量皆為int8\n",
    "converter.target_spec.supported_types = [tf.int8]  # float16 或 int8\n",
    "converter.inference_input_type = tf.int8\n",
    "converter.inference_output_type = tf.int8\n",
    "\n",
    "# ==== 4. 轉換模型並儲存 ====\n",
    "tflite_quant_model = converter.convert()\n",
    "\n",
    "# 儲存為.tflite檔案\n",
    "with open('int8_MobileNetV2.tflite', 'wb') as f:\n",
    "    f.write(tflite_quant_model)\n",
    "\n",
    "print(\"✅ 轉換完成，已儲存為 model_int8.tflite\")\n"
   ]
  },
  {
   "cell_type": "code",
   "execution_count": 3,
   "metadata": {},
   "outputs": [],
   "source": [
    "import tensorflow as tf\n",
    "import numpy as np\n",
    "import cv2\n",
    "import os\n",
    "import matplotlib.pyplot as plt\n",
    "from sklearn.metrics import accuracy_score, classification_report, f1_score, confusion_matrix, ConfusionMatrixDisplay"
   ]
  },
  {
   "cell_type": "code",
   "execution_count": 4,
   "metadata": {},
   "outputs": [],
   "source": [
    "gpus = tf.config.experimental.list_physical_devices('GPU')\n",
    "for gpu in gpus:\n",
    "    tf.config.experimental.set_memory_growth(gpu, True)"
   ]
  },
  {
   "cell_type": "code",
   "execution_count": 5,
   "metadata": {},
   "outputs": [],
   "source": [
    "# === 1. 載入 int8 TFLite 模型 ===\n",
    "interpreter = tf.lite.Interpreter(model_path=\"int8_MobileNetV2.tflite\")\n",
    "interpreter.allocate_tensors()\n",
    "\n",
    "input_details = interpreter.get_input_details()\n",
    "output_details = interpreter.get_output_details()\n",
    "\n",
    "input_shape = input_details[0]['shape'][1:3]\n",
    "\n",
    "\n",
    "# 取得量化參數 (scale, zero_point)\n",
    "input_scale, input_zero_point = input_details[0]['quantization']"
   ]
  },
  {
   "cell_type": "code",
   "execution_count": 6,
   "metadata": {},
   "outputs": [],
   "source": [
    "# === 2. 定義影像預處理函式 ===\n",
    "def preprocess_img(img_path, input_shape, scale, zero_point):\n",
    "    img = cv2.imread(img_path)\n",
    "    img = cv2.cvtColor(img, cv2.COLOR_BGR2RGB)\n",
    "    img = cv2.resize(img, input_shape)\n",
    "    img = img.astype(np.float32) / 255.0  # 先歸一化到 [0,1]\n",
    "\n",
    "    # 將資料量化為 int8\n",
    "    img = img / scale + zero_point\n",
    "    img = np.clip(img, -128, 127).astype(np.int8)\n",
    "    img = np.expand_dims(img, axis=0)\n",
    "    return img\n"
   ]
  },
  {
   "cell_type": "code",
   "execution_count": 7,
   "metadata": {},
   "outputs": [],
   "source": [
    "# === 3. 載入測試資料 ===\n",
    "def load_test_data(img_dir):\n",
    "    X = []\n",
    "    y = []\n",
    "    class_names = sorted(os.listdir(img_dir))  # 每個子資料夾為一個類別\n",
    "    class_to_idx = {name: idx for idx, name in enumerate(class_names)}\n",
    "\n",
    "    for class_name in class_names:\n",
    "        class_folder = os.path.join(img_dir, class_name)\n",
    "        if not os.path.isdir(class_folder):\n",
    "            continue\n",
    "        for fname in os.listdir(class_folder):\n",
    "            if fname.lower().endswith(('.jpg', '.png', '.jpeg')):\n",
    "                img_path = os.path.join(class_folder, fname)\n",
    "                img = preprocess_img(img_path, input_shape, input_scale, input_zero_point)\n",
    "                if img is not None:\n",
    "                    X.append(img)\n",
    "                    y.append(class_to_idx[class_name])\n",
    "    return X, y, class_names\n",
    "test_folder = \"trashbox\"  # <-- 請修改為你的測試資料夾路徑\n",
    "X_test, y_true, class_names = load_test_data(test_folder)"
   ]
  },
  {
   "cell_type": "code",
   "execution_count": 8,
   "metadata": {},
   "outputs": [],
   "source": [
    "# === 4. 推論模型 ===\n",
    "y_pred = []\n",
    "for img in X_test:\n",
    "    interpreter.set_tensor(input_details[0]['index'], img)\n",
    "    interpreter.invoke()\n",
    "    output = interpreter.get_tensor(output_details[0]['index'])\n",
    "    pred = np.argmax(output, axis=-1)[0]\n",
    "    y_pred.append(pred)"
   ]
  },
  {
   "cell_type": "code",
   "execution_count": 9,
   "metadata": {},
   "outputs": [
    {
     "name": "stdout",
     "output_type": "stream",
     "text": [
      "準確率: 0.7095839370730698\n",
      "              precision    recall  f1-score   support\n",
      "\n",
      "          BG     0.7771    1.0000    0.8746       373\n",
      "       Metal     0.4246    0.7586    0.5445      1562\n",
      "          PG     0.8888    0.5492    0.6789      3696\n",
      "       Paper     0.7957    0.8107    0.8031      4031\n",
      "\n",
      "    accuracy                         0.7096      9662\n",
      "   macro avg     0.7215    0.7797    0.7253      9662\n",
      "weighted avg     0.7706    0.7096    0.7166      9662\n",
      "\n"
     ]
    }
   ],
   "source": [
    "# === 6. 輸出分類報告 (包含Accuracy, Precision, Recall, F1-score) ===\n",
    "accuracy = accuracy_score(y_true, y_pred)\n",
    "print(f\"準確率: {accuracy}\")\n",
    "print(classification_report(y_true, y_pred, target_names=class_names, digits=4))\n"
   ]
  }
 ],
 "metadata": {
  "kernelspec": {
   "display_name": "Python 3",
   "language": "python",
   "name": "python3"
  },
  "language_info": {
   "codemirror_mode": {
    "name": "ipython",
    "version": 3
   },
   "file_extension": ".py",
   "mimetype": "text/x-python",
   "name": "python",
   "nbconvert_exporter": "python",
   "pygments_lexer": "ipython3",
   "version": "3.8.20"
  }
 },
 "nbformat": 4,
 "nbformat_minor": 2
}
