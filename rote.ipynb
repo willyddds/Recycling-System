{
 "cells": [
  {
   "cell_type": "code",
   "execution_count": 1,
   "id": "5600c280",
   "metadata": {},
   "outputs": [],
   "source": [
    "import os\n",
    "import math\n",
    "from PIL import Image\n",
    "\n",
    "def rotate_and_crop(img, angle):\n",
    "    # 計算原始尺寸\n",
    "    w, h = img.size\n",
    "    radians = math.radians(angle)\n",
    "\n",
    "    # 計算旋轉後圖片需要放大的比例\n",
    "    sin = abs(math.sin(radians))\n",
    "    cos = abs(math.cos(radians))\n",
    "    new_w = w * cos + h * sin\n",
    "    new_h = w * sin + h * cos\n",
    "\n",
    "    # 放大比例計算 (填滿黑邊)\n",
    "    scale = max(new_w / w, new_h / h)\n",
    "\n",
    "    # 先放大圖片再旋轉\n",
    "    enlarged_img = img.resize((int(math.ceil(w * scale)), int(math.ceil(h * scale))), Image.BICUBIC)\n",
    "    rotated_img = enlarged_img.rotate(angle, resample=Image.BICUBIC, expand=False)\n",
    "\n",
    "    # 旋轉後直接裁剪至原圖尺寸（避免黑邊）\n",
    "    rotated_w, rotated_h = rotated_img.size\n",
    "    left = (rotated_w - w) / 2\n",
    "    top = (rotated_h - h) / 2\n",
    "    right = left + w\n",
    "    bottom = top + h\n",
    "\n",
    "    final_img = rotated_img.crop((left, top, right, bottom))\n",
    "    return final_img\n",
    "\n",
    "def process_images(input_folder, output_folder, step=90):\n",
    "    os.makedirs(output_folder, exist_ok=True)\n",
    "\n",
    "    for filename in os.listdir(input_folder):\n",
    "        if filename.lower().endswith(('.png', '.jpg', '.jpeg', '.bmp', '.tiff', '.webp')):\n",
    "            filepath = os.path.join(input_folder, filename)\n",
    "            try:\n",
    "                img = Image.open(filepath).convert('RGB')\n",
    "                basename, ext = os.path.splitext(filename)\n",
    "\n",
    "                # 每 step 度旋轉一次，儲存圖片\n",
    "                for angle in range(0, 360, step):\n",
    "                    rotated_img = rotate_and_crop(img, angle)\n",
    "                    rotated_img.save(os.path.join(output_folder, f\"{basename}_rot{angle}{ext}\"))\n",
    "\n",
    "            except Exception as e:\n",
    "                print(f\"處理圖片 {filename} 時發生錯誤：{e}\")\n",
    "\n",
    "# 使用範例\n",
    "input_folder = r'E:\\Codes\\CV train\\回收系統dataset\\Garbage\\addmetal'           # 原圖資料夾\n",
    "output_folder = r'E:\\Codes\\CV train\\回收系統dataset\\Garbage\\new_metal'  # 輸出資料夾\n",
    "process_images(input_folder, output_folder)\n"
   ]
  },
  {
   "cell_type": "code",
   "execution_count": null,
   "id": "bef9b2ae",
   "metadata": {},
   "outputs": [],
   "source": []
  },
  {
   "cell_type": "code",
   "execution_count": null,
   "id": "875b124b",
   "metadata": {},
   "outputs": [],
   "source": []
  }
 ],
 "metadata": {
  "kernelspec": {
   "display_name": "Python 3",
   "language": "python",
   "name": "python3"
  },
  "language_info": {
   "codemirror_mode": {
    "name": "ipython",
    "version": 3
   },
   "file_extension": ".py",
   "mimetype": "text/x-python",
   "name": "python",
   "nbconvert_exporter": "python",
   "pygments_lexer": "ipython3",
   "version": "3.8.20"
  }
 },
 "nbformat": 4,
 "nbformat_minor": 5
}
